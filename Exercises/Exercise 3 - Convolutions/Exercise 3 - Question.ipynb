{
  "cells": [
    {
      "cell_type": "markdown",
      "metadata": {
        "id": "view-in-github",
        "colab_type": "text"
      },
      "source": [
        "<a href=\"https://colab.research.google.com/github/yhakamay/tensorflow-excercise/blob/main/Exercises/Exercise%203%20-%20Convolutions/Exercise%203%20-%20Question.ipynb\" target=\"_parent\"><img src=\"https://colab.research.google.com/assets/colab-badge.svg\" alt=\"Open In Colab\"/></a>"
      ]
    },
    {
      "cell_type": "code",
      "metadata": {
        "id": "zX4Kg8DUTKWO"
      },
      "source": [
        "#@title Licensed under the Apache License, Version 2.0 (the \"License\");\n",
        "# you may not use this file except in compliance with the License.\n",
        "# You may obtain a copy of the License at\n",
        "#\n",
        "# https://www.apache.org/licenses/LICENSE-2.0\n",
        "#\n",
        "# Unless required by applicable law or agreed to in writing, software\n",
        "# distributed under the License is distributed on an \"AS IS\" BASIS,\n",
        "# WITHOUT WARRANTIES OR CONDITIONS OF ANY KIND, either express or implied.\n",
        "# See the License for the specific language governing permissions and\n",
        "# limitations under the License."
      ],
      "execution_count": null,
      "outputs": []
    },
    {
      "cell_type": "markdown",
      "metadata": {
        "id": "iQjHqsmTAVLU"
      },
      "source": [
        "## Exercise 3\n",
        "In the videos you looked at how you would improve Fashion MNIST using Convolutions. For your exercise see if you can improve MNIST to 99.8% accuracy or more using only a single convolutional layer and a single MaxPooling 2D. You should stop training once the accuracy goes above this amount. It should happen in less than 20 epochs, so it's ok to hard code the number of epochs for training, but your training must end once it hits the above metric. If it doesn't, then you'll need to redesign your layers.\n",
        "\n",
        "I've started the code for you -- you need to finish it!\n",
        "\n",
        "When 99.8% accuracy has been hit, you should print out the string \"Reached 99.8% accuracy so cancelling training!\"\n"
      ]
    },
    {
      "cell_type": "code",
      "execution_count": 4,
      "metadata": {
        "colab": {
          "base_uri": "https://localhost:8080/"
        },
        "id": "sfQRyaJWAIdg",
        "outputId": "7113390c-da26-4b50-fe1e-94802825558f"
      },
      "outputs": [
        {
          "output_type": "stream",
          "name": "stdout",
          "text": [
            "Epoch 1/20\n",
            "1875/1875 [==============================] - 9s 5ms/step - loss: 0.1481 - accuracy: 0.9547\n",
            "Epoch 2/20\n",
            "1875/1875 [==============================] - 9s 5ms/step - loss: 0.0492 - accuracy: 0.9847\n",
            "Epoch 3/20\n",
            "1875/1875 [==============================] - 9s 5ms/step - loss: 0.0344 - accuracy: 0.9894\n",
            "Epoch 4/20\n",
            "1875/1875 [==============================] - 8s 5ms/step - loss: 0.0246 - accuracy: 0.9919\n",
            "Epoch 5/20\n",
            "1875/1875 [==============================] - 9s 5ms/step - loss: 0.0192 - accuracy: 0.9939\n",
            "Epoch 6/20\n",
            "1875/1875 [==============================] - 8s 4ms/step - loss: 0.0146 - accuracy: 0.9955\n",
            "Epoch 7/20\n",
            "1875/1875 [==============================] - 8s 5ms/step - loss: 0.0121 - accuracy: 0.9960\n",
            "Epoch 8/20\n",
            "1875/1875 [==============================] - 8s 5ms/step - loss: 0.0097 - accuracy: 0.9968\n",
            "Epoch 9/20\n",
            "1875/1875 [==============================] - 9s 5ms/step - loss: 0.0087 - accuracy: 0.9971\n",
            "Epoch 10/20\n",
            "1875/1875 [==============================] - 9s 5ms/step - loss: 0.0065 - accuracy: 0.9979\n",
            "Epoch 11/20\n",
            "1875/1875 [==============================] - 9s 5ms/step - loss: 0.0067 - accuracy: 0.9977\n",
            "Epoch 12/20\n",
            "1875/1875 [==============================] - 9s 5ms/step - loss: 0.0072 - accuracy: 0.9976\n",
            "Epoch 13/20\n",
            "1875/1875 [==============================] - ETA: 0s - loss: 0.0035 - accuracy: 0.9990\n",
            "Accuracy reached 99.8%. Training stopped.\n",
            "1875/1875 [==============================] - 9s 5ms/step - loss: 0.0035 - accuracy: 0.9990\n",
            "313/313 [==============================] - 1s 4ms/step - loss: 0.0479 - accuracy: 0.9894\n",
            "0.9894000291824341\n"
          ]
        }
      ],
      "source": [
        "import tensorflow as tf\n",
        "\n",
        "class customCallback(tf.keras.callbacks.Callback):\n",
        "  def on_epoch_end(self, epoch, logs={}):\n",
        "    if (logs.get('accuracy') > 0.998):\n",
        "      print(\"\\nAccuracy reached 99.8%. Training stopped.\")\n",
        "      self.model.stop_training = True\n",
        "\n",
        "callbacks = [customCallback()]\n",
        "\n",
        "mnist = tf.keras.datasets.mnist\n",
        "(training_images, training_labels), (test_images, test_labels) = mnist.load_data()\n",
        "\n",
        "training_images = training_images.reshape(60000, 28, 28, 1)\n",
        "training_images = training_images / 255.0\n",
        "test_images = test_images.reshape(10000, 28, 28, 1)\n",
        "test_images = test_images / 255.0\n",
        "\n",
        "model = tf.keras.models.Sequential([\n",
        "  tf.keras.layers.Conv2D(32, (3, 3), activation = 'relu', input_shape = (28, 28, 1)),\n",
        "  tf.keras.layers.MaxPool2D(2, 2),\n",
        "  tf.keras.layers.Conv2D(32, (3, 3), activation = 'relu'),\n",
        "  tf.keras.layers.MaxPool2D(2, 2),\n",
        "  tf.keras.layers.Flatten(),\n",
        "  tf.keras.Input(shape=(16)),\n",
        "  tf.keras.layers.Dense(128, activation = 'relu'),\n",
        "  tf.keras.layers.Dense(10, activation = 'softmax')\n",
        "])\n",
        "\n",
        "model.compile(\n",
        "  optimizer='adam',\n",
        "  loss='sparse_categorical_crossentropy',\n",
        "  metrics = ['accuracy']\n",
        ")\n",
        "\n",
        "model.fit(training_images, training_labels, epochs = 20, callbacks = callbacks)\n",
        "test_loss, test_acc = model.evaluate(test_images, test_labels)\n",
        "print(test_acc)"
      ]
    }
  ],
  "metadata": {
    "colab": {
      "collapsed_sections": [],
      "name": "Exercise 3 - Question.ipynb",
      "provenance": [],
      "include_colab_link": true
    },
    "kernelspec": {
      "display_name": "Python 3",
      "name": "python3"
    },
    "accelerator": "GPU"
  },
  "nbformat": 4,
  "nbformat_minor": 0
}